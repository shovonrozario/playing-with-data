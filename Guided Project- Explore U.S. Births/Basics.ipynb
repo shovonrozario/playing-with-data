{
 "cells": [
  {
   "cell_type": "code",
   "execution_count": 21,
   "metadata": {
    "collapsed": false
   },
   "outputs": [
    {
     "name": "stdout",
     "output_type": "stream",
     "text": [
      "{2000: 4058814, 2001: 4025933, 2002: 4021726, 2003: 4089950, 1994: 3952767, 1995: 3899589, 1996: 3891494, 1997: 3880894, 1998: 3941553, 1999: 3959417}\n"
     ]
    }
   ],
   "source": [
    "def read_csv(file_path):\n",
    "    final_list = []\n",
    "    file_content = open(file_path, \"r\").read()\n",
    "    string_list = file_content.split(\"\\n\")\n",
    "    string_list = string_list[1:len(lines)]\n",
    "    final_list = []\n",
    "    \n",
    "    for string in string_list:\n",
    "        int_fields = []\n",
    "        string_fields = string.split(\",\")\n",
    "        \n",
    "        for string_field in string_fields:\n",
    "            int_fields.append(int(string_field))\n",
    "        \n",
    "        final_list.append(int_fields)\n",
    "    \n",
    "    return final_list\n",
    "\n",
    "def month_births(cdc_data):\n",
    "    births_per_month = {}\n",
    "    \n",
    "    for data in cdc_data:\n",
    "        birth_month = data[1]\n",
    "        birth_count = data[4]\n",
    "        \n",
    "        if birth_month in births_per_month:\n",
    "            births_per_month[birth_month] += birth_count\n",
    "        else:\n",
    "            births_per_month[birth_month] = birth_count\n",
    "    \n",
    "    return births_per_month\n",
    "\n",
    "def dow_births(cdc_data):\n",
    "    births_per_day_of_week = {}\n",
    "    \n",
    "    for data in cdc_data:\n",
    "        day_of_week = data[3]\n",
    "        birth_count = data[4]\n",
    "        \n",
    "        if day_of_week in births_per_day_of_week:\n",
    "            births_per_day_of_week[day_of_week] += birth_count\n",
    "        else:\n",
    "            births_per_day_of_week[day_of_week] = birth_count\n",
    "            \n",
    "    return births_per_day_of_week\n",
    "\n",
    "def calc_counts(data, column):\n",
    "    column_index = {\"year\": 0, \"month\": 1, \"date_of_month\": 2, \"day_of_week\": 3, \"births\": 4}\n",
    "    total_births = {}\n",
    "    \n",
    "    for record in data:\n",
    "        target_index = record[column_index[column]]\n",
    "        birth_count = record[column_index[\"births\"]]\n",
    "\n",
    "        if target_index in total_births:\n",
    "            total_births[target_index] += birth_count\n",
    "        else:\n",
    "            total_births[target_index] = birth_count\n",
    "    \n",
    "    return total_births\n",
    "\n",
    "file_path = \"US_births_1994-2003_CDC_NCHS.csv\"\n",
    "cdc_list = read_csv(file_path)\n",
    "columns = [\"year\", \"month\" ,\"date_of_month\", \"day_of_week\" , \"births\"]\n",
    "cdc_year_births = calc_counts(cdc_list, columns[0])\n",
    "cdc_month_births = calc_counts(cdc_list, columns[1])\n",
    "cdc_dom_births = calc_counts(cdc_list, columns[2])\n",
    "cdc_dow_births = calc_counts(cdc_list, columns[3])\n"
   ]
  }
 ],
 "metadata": {
  "anaconda-cloud": {},
  "kernelspec": {
   "display_name": "Python 3",
   "language": "python",
   "name": "python3"
  },
  "language_info": {
   "codemirror_mode": {
    "name": "ipython",
    "version": 3
   },
   "file_extension": ".py",
   "mimetype": "text/x-python",
   "name": "python",
   "nbconvert_exporter": "python",
   "pygments_lexer": "ipython3",
   "version": "3.4.3"
  }
 },
 "nbformat": 4,
 "nbformat_minor": 1
}
